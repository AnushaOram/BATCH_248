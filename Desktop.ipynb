{
 "cells": [
  {
   "cell_type": "markdown",
   "id": "a25f0102",
   "metadata": {},
   "source": [
    "# intro to notes"
   ]
  },
  {
   "cell_type": "markdown",
   "id": "a2fc7b54",
   "metadata": {},
   "source": [
    "## markdown"
   ]
  },
  {
   "cell_type": "markdown",
   "id": "155e7f87",
   "metadata": {},
   "source": [
    " . point 1\n",
    "  * point 1.1\n",
    "  \n",
    "1. step - 1\n",
    "  1.a.step 1.1\n",
    "  \n",
    "  \n",
    "  \n",
    "  \n",
    "  "
   ]
  },
  {
   "cell_type": "markdown",
   "id": "fb2c02bf",
   "metadata": {},
   "source": [
    "<b> this text is bold </b>\n",
    "<i> this text is in italic </i> \n"
   ]
  },
  {
   "cell_type": "markdown",
   "id": "15cd1e0f",
   "metadata": {},
   "source": [
    "<u> this text is in underlined </u>"
   ]
  },
  {
   "cell_type": "markdown",
   "id": "80bd2b47",
   "metadata": {},
   "source": [
    "<d> this text is in digit </d>"
   ]
  },
  {
   "cell_type": "markdown",
   "id": "b9fdc4de",
   "metadata": {},
   "source": [
    "<b><u> abc </u></b>"
   ]
  },
  {
   "cell_type": "markdown",
   "id": "3108421a",
   "metadata": {},
   "source": [
    "<center> some text </center>"
   ]
  },
  {
   "cell_type": "markdown",
   "id": "c78c5ada",
   "metadata": {},
   "source": [
    "> Text\n",
    "        \n",
    "    "
   ]
  },
  {
   "cell_type": "markdown",
   "id": "12366dc6",
   "metadata": {},
   "source": [
    "`text`"
   ]
  },
  {
   "cell_type": "markdown",
   "id": "61e3b403",
   "metadata": {},
   "source": [
    "to go google, [click here](https://www.google.com/)"
   ]
  },
  {
   "cell_type": "markdown",
   "id": "c4e97a9f",
   "metadata": {},
   "source": [
    "![](https://www.bing.com/images/search?view=detailV2&ccid=sgfANV04&id=499E54C2053F6C0810C277D3C1BF7148C4A5E3D7&thid=OIP.sgfANV04uRrGZbJHdtVynwHaFQ&mediaurl=https%3A%2F%2Fadtechdaily.com%2Fwp-content%2Fuploads%2F2017%2F07%2FAdobeStock_134505392__1_.jpeg&exph=2959&expw=4174&q=data+science&simid=607999792912823465&form=IRPRST&ck=76C94C29A61DDBF8E482A7123A359E35&selectedindex=2&ajaxhist=0&ajaxserp=0&vt=0&sim=11)"
   ]
  },
  {
   "cell_type": "markdown",
   "id": "d2510f46",
   "metadata": {},
   "source": [
    "![](https://www.bing.com/images/search?view=detailV2&ccid=sgfANV04&id=499E54C2053F6C0810C277D3C1BF7148C4A5E3D7&thid=OIP.sgfANV04uRrGZbJHdtVynwHaFQ&mediaurl=https%3A%2F%2Fadtechdaily.com%2Fwp-content%2Fuploads%2F2017%2F07%2FAdobeStock_134505392__1_.jpeg&exph=2959&expw=4174&q=data+science&simid=607999792912823465&form=IRPRST&ck=76C94C29A61DDBF8E482A7123A359E35&selectedindex=2&ajaxhist=0&ajaxserp=0&vt=0&sim=11)"
   ]
  },
  {
   "cell_type": "markdown",
   "id": "57a0c7b5",
   "metadata": {},
   "source": [
    "\n",
    "\n",
    "\n",
    "\n",
    "\n",
    "# <b><u>  RESUME  </u></b>\n"
   ]
  },
  {
   "cell_type": "markdown",
   "id": "b078496f",
   "metadata": {},
   "source": [
    "\n"
   ]
  },
  {
   "cell_type": "markdown",
   "id": "1ae8320a",
   "metadata": {},
   "source": [
    "### <i> Anusha oram </i>\n",
    "\n",
    "![](https://imgtr.ee/image/anusha-image.jpg2.d1BjC)\n"
   ]
  },
  {
   "cell_type": "markdown",
   "id": "171c552a",
   "metadata": {},
   "source": [
    "![](https://imgtr.ee/images/2023/08/04/ea67452d2c080784a7750d2a4a1aef89.jpeg)\n",
    "`☎ Cell No:9010853768`\n",
    "\n",
    "`✉ Email address: Anushaoram5@gmail.com`\n",
    "\n",
    "linkdin profile: [click here](https://www.linkedin.com/in/anusha-oram-a6497a28])\n",
    "   <u>_____________________________________________________________________________________________________________________________</u>\n",
    "\n",
    "<b> Carrier objective: </b>\n",
    "\n",
    "         \n",
    "         “To purposeTo purpose of challenging career and be a part of progressive organization that give scope to enhance my knowledge and utilize my skills towards the growth of the organization”\n",
    "\n",
    ". <b> Educational qualification: </b> \n",
    "              \t     \n",
    "* <i><u> BSc(Data Science) </i></u> \t \n",
    "\n",
    "     * GOVT DEGREE COLLEGE(A), Siddipet Osmania University\t\n",
    "\n",
    "* <i><u> MPC </i></u> \t\n",
    "     * Vasavi Junior College, Ramayampet Telangana state board of intermediate education\t\n",
    "   \n",
    "* <i><u> SSC </i></u> \n",
    "     * Ujwala Vidyalayam High School,Ramayampet Telangana state board of secondary education\t\n",
    "  \n",
    "  \n",
    "  <b> Technical skills: </b>\n",
    "\n",
    "            ✓ python\n",
    "            ✓ machine learning\n",
    " \n",
    ". <b> TECHNICAL TRAININGS & WORK SHOPS: </b>\n",
    "\n",
    "\n",
    "  * successfully completed GOOGLE DATA ANALYTICS  PROFESTIONAL CERTIFICATION COURCE.\n",
    "  * Participated 2 months training on MACHINE LEARNING AND PYTHON organized by Department of Data science, Osmania University Hyderabad, collaboration with TCS.\n",
    "  * Participated one day National work shop on ARTIFICIAL INTELLIGENCE AND ITS APPLICATION organized by Department of Computer science, Government Degree College (A)-Siddipet\n",
    "\n",
    ". <b> UG level projects: </b>\n",
    "\n",
    "   * [2/2022]- Mini project in Data Science. <b><i> ‘’Sentiment Analysis of Amazon reviews for various mobile phone brands’’ </b></i> in focuses on sentiment analysis on Amazon website. We fetched different products and perform sentiment analysis of the products based on their reviews. Our analysis gives a ranking to the mobile phones based on various brands.\n",
    "\n",
    "   * [4/2022]- state level Jignasa project in English Me and my team done English Jignasa project on <b><i>“Vocabulary levels of students studing in intermidiate”</b></i> have conducted the survey from 200 students. And We told students to write word and we concluded results on those words.\n",
    "\n",
    "   * [6/2022]- Mini project in Data Science. <b><i> ” Mobile web app for labour services” </b></i>. In that we develop a mobile web app for labour services it connects labours as well as contractors. It eliminates the Hasil of fi ding good workers in their field.\n",
    "\n",
    "   * [4/2023]- state level Jignasa project in English <b><i> “The language used in social media” </b></i> To study the new language used in social media like Emojis, Hashtags, Abbreviations. Understanding how critical it is to understand language trends on social media can be extremely beneficial. \n",
    "\n",
    "   * [6/2023]- Major project in Data Science<b><i> ”Real time object detection with SSD “ </b></i>and recognition in an image captured by webcam and videos in dynamic environment using deep learning models with the help of this project to identify individual objects fastest way. \n",
    "\n",
    "\n",
    "\n",
    " \n",
    "  \n",
    "  . <b> ACHIEVEMENTS: </b>\n",
    "     \n",
    "\n",
    "\n",
    "\n",
    "   * successfully completed GOOGLE DATA ANALYTICS PROFESTIONAL CERTIFICATION COURCE. In courcera platform and I got 8   certificates regarding that\n",
    "\n",
    "   * I done English state level Jignasa projects in my 2nd&3rd year and I got two participating certificates \n",
    "\n",
    "   * I participated Maths poster presentation in Govt degree college in that I received a prize\n",
    "   * am the topper in BSc (data science) with an CGPA 9.5 in 5th my semester and I got CGPA 9.2 in my 4th semester \n",
    "   \n",
    "<b> Hobbies: </b>\n",
    "\n",
    "\t> Programming, Dancing, stitching \n",
    "    \n",
    ". <b> Personal Strength: </b>\n",
    "\n",
    "* self-confident and Bold \n",
    "* Taking everything as a challenge \n",
    "* Positive attitude. \n",
    "* Friendly nature. \n",
    "\n",
    "\n",
    "<b> Personal Information: </b>  \n",
    "\n",
    "\n",
    "Father’s Name                                  :                Srinivas Oram\n",
    "\n",
    "Nationality                                    :               Indian\n",
    "\n",
    "Date of Birth                                  :              29-09-2002   \n",
    "\n",
    "Language known                                 :              Telugu, English, Hindi                        \n",
    "\n",
    "Permanent Address                              :      H.NO-9-41, Village-Ramayampet, Mandal-Ramayampet, District-Medak, State-Telangana, Pin Code-502-101                                                                                          \n",
    "\n",
    "<b> Self-Declaration: </b>\n",
    "\n",
    "   The above information given by me is true to the best of my knowledge. \n",
    "\n",
    "\n"
   ]
  },
  {
   "cell_type": "markdown",
   "id": "84d24afe",
   "metadata": {},
   "source": [
    "![](https://imgtr.ee/image/anusha-image.jpg2.d1BjC)"
   ]
  },
  {
   "cell_type": "code",
   "execution_count": null,
   "id": "2dea73ed",
   "metadata": {},
   "outputs": [],
   "source": []
  },
  {
   "cell_type": "code",
   "execution_count": null,
   "id": "0bbc0e87",
   "metadata": {},
   "outputs": [],
   "source": []
  }
 ],
 "metadata": {
  "kernelspec": {
   "display_name": "Python 3 (ipykernel)",
   "language": "python",
   "name": "python3"
  },
  "language_info": {
   "codemirror_mode": {
    "name": "ipython",
    "version": 3
   },
   "file_extension": ".py",
   "mimetype": "text/x-python",
   "name": "python",
   "nbconvert_exporter": "python",
   "pygments_lexer": "ipython3",
   "version": "3.11.3"
  }
 },
 "nbformat": 4,
 "nbformat_minor": 5
}
